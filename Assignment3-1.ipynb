{
 "cells": [
  {
   "cell_type": "code",
   "execution_count": 1,
   "metadata": {},
   "outputs": [
    {
     "name": "stdout",
     "output_type": "stream",
     "text": [
      "The lowest number in the sequence is: 1\n"
     ]
    }
   ],
   "source": [
    "#Exercise 6\n",
    "import random\n",
    "number1 = random.randint(0,100)\n",
    "number2 = random.randint(0,100)\n",
    "number3 = random.randint(0,100)\n",
    "print('The lowest number in the sequence is: ', end='')\n",
    "if (number1 < number2) & (number1 < number3): print(number1)\n",
    "elif (number2 < number1): print(number2)\n",
    "else: print(number3)"
   ]
  },
  {
   "cell_type": "code",
   "execution_count": 1,
   "metadata": {},
   "outputs": [],
   "source": [
    "#Exercise 7\n",
    "number1 = int(input('Please input integer 1'))\n",
    "number2 = int(input('Please input integer 2'))\n",
    "number3 = int(input('Please input integer 3'))\n",
    "if (number1 < number2) & (number1 < number3):\n",
    "    print (number1, number2, number3) if number2 < number3 else print (number1, number3, number2)\n",
    "elif (number2 < number1) & (number2 < number3):\n",
    "    print (number2, number1, number3) if number1 < number3 else print (number2, number3, number1)\n",
    "else:\n",
    "    print (number3, number1, number2) if number1 < number2 else print (number3, number2, number1)"
   ]
  },
  {
   "cell_type": "code",
   "execution_count": null,
   "metadata": {},
   "outputs": [
    {
     "name": "stdout",
     "output_type": "stream",
     "text": [
      "True\n"
     ]
    }
   ],
   "source": [
    "#Exercise 8\n",
    "string = input('Please input your email:')\n",
    "if (string[0].isupper() & string[0].isalpha() & (5 < len(string) < 30) & (string.find('@') != -1) & (string.find('@') < string.rfind('.'))):\n",
    "    print('True')\n",
    "else:\n",
    "    print('False')"
   ]
  }
 ],
 "metadata": {
  "kernelspec": {
   "display_name": "Python 3.9.12 ('base')",
   "language": "python",
   "name": "python3"
  },
  "language_info": {
   "codemirror_mode": {
    "name": "ipython",
    "version": 3
   },
   "file_extension": ".py",
   "mimetype": "text/x-python",
   "name": "python",
   "nbconvert_exporter": "python",
   "pygments_lexer": "ipython3",
   "version": "3.9.12"
  },
  "orig_nbformat": 4,
  "vscode": {
   "interpreter": {
    "hash": "f99ce459c7a0f9093dec66807a6e7241d1f758b2e574ff2d27df5e1d05a50f5b"
   }
  }
 },
 "nbformat": 4,
 "nbformat_minor": 2
}
