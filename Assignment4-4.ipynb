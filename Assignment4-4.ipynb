{
 "cells": [
  {
   "cell_type": "code",
   "execution_count": 12,
   "metadata": {},
   "outputs": [
    {
     "name": "stdout",
     "output_type": "stream",
     "text": [
      "Here are all elements in the list:\n",
      "12 14 192 1 23 \n",
      "Here are the lowest and highest elements in the list:\n",
      "1 192 "
     ]
    }
   ],
   "source": [
    "numbers = [0] * 5\n",
    "x=0\n",
    "\n",
    "while x<5:\n",
    "    numbers[x] = int(input(\"Input an integer\"))\n",
    "    x+=1\n",
    "\n",
    "print(\"Here are all elements in the list:\")\n",
    "for x in numbers:\n",
    "    print(x, end=' ')\n",
    "print()\n",
    "\n",
    "greatest = numbers[0]\n",
    "for x in range(5):\n",
    "    if greatest < numbers[x]:\n",
    "        greatest = numbers[x]\n",
    "\n",
    "lowest = numbers[0]\n",
    "for x in range(5):\n",
    "    if  lowest > numbers[x]:\n",
    "        lowest = numbers[x]\n",
    "\n",
    "print(\"Here are the lowest and highest elements in the list:\")\n",
    "print(lowest, greatest, end=' ')"
   ]
  }
 ],
 "metadata": {
  "kernelspec": {
   "display_name": "Python 3.9.12 ('base')",
   "language": "python",
   "name": "python3"
  },
  "language_info": {
   "codemirror_mode": {
    "name": "ipython",
    "version": 3
   },
   "file_extension": ".py",
   "mimetype": "text/x-python",
   "name": "python",
   "nbconvert_exporter": "python",
   "pygments_lexer": "ipython3",
   "version": "3.9.12"
  },
  "orig_nbformat": 4,
  "vscode": {
   "interpreter": {
    "hash": "f99ce459c7a0f9093dec66807a6e7241d1f758b2e574ff2d27df5e1d05a50f5b"
   }
  }
 },
 "nbformat": 4,
 "nbformat_minor": 2
}
