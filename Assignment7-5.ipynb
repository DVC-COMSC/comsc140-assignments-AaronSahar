{
 "cells": [
  {
   "cell_type": "code",
   "execution_count": 25,
   "metadata": {},
   "outputs": [
    {
     "name": "stdout",
     "output_type": "stream",
     "text": [
      "True\n"
     ]
    }
   ],
   "source": [
    "num1 = list(map(int, input(\"Enter the numbers \").split()))\n",
    "num2 = list(map(int, input(\"Enter the numbers \").split()))\n",
    "match = False\n",
    "loop = 1\n",
    "if len(num1) >= len(num2):\n",
    "    for i in range (len(num1)):\n",
    "        if num2[0] == num1[i]:\n",
    "            match = True\n",
    "            while i+loop < len(num2):\n",
    "                if num2[loop] != num1[i+loop]:\n",
    "                    match = False\n",
    "                loop += 1\n",
    "print(match)"
   ]
  }
 ],
 "metadata": {
  "kernelspec": {
   "display_name": "Python 3.9.12 ('base')",
   "language": "python",
   "name": "python3"
  },
  "language_info": {
   "codemirror_mode": {
    "name": "ipython",
    "version": 3
   },
   "file_extension": ".py",
   "mimetype": "text/x-python",
   "name": "python",
   "nbconvert_exporter": "python",
   "pygments_lexer": "ipython3",
   "version": "3.9.12"
  },
  "orig_nbformat": 4,
  "vscode": {
   "interpreter": {
    "hash": "f99ce459c7a0f9093dec66807a6e7241d1f758b2e574ff2d27df5e1d05a50f5b"
   }
  }
 },
 "nbformat": 4,
 "nbformat_minor": 2
}
