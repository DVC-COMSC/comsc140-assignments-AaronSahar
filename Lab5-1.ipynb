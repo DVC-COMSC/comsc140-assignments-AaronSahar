{
 "cells": [
  {
   "cell_type": "code",
   "execution_count": 19,
   "metadata": {},
   "outputs": [
    {
     "name": "stdout",
     "output_type": "stream",
     "text": [
      "0\n",
      "21\n",
      "62\n",
      "64\n",
      "39\n",
      "186\n"
     ]
    }
   ],
   "source": [
    "import random\n",
    "numbers = [0] * 5\n",
    "i = 0\n",
    "sum = 0\n",
    "while i < 5:\n",
    "    numbers[i] = random.randint(0,100)\n",
    "    sum += numbers[i]\n",
    "    print(numbers[i])\n",
    "    i += 1\n",
    "print(sum)"
   ]
  }
 ],
 "metadata": {
  "kernelspec": {
   "display_name": "Python 3.9.12 ('base')",
   "language": "python",
   "name": "python3"
  },
  "language_info": {
   "codemirror_mode": {
    "name": "ipython",
    "version": 3
   },
   "file_extension": ".py",
   "mimetype": "text/x-python",
   "name": "python",
   "nbconvert_exporter": "python",
   "pygments_lexer": "ipython3",
   "version": "3.9.12"
  },
  "orig_nbformat": 4,
  "vscode": {
   "interpreter": {
    "hash": "f99ce459c7a0f9093dec66807a6e7241d1f758b2e574ff2d27df5e1d05a50f5b"
   }
  }
 },
 "nbformat": 4,
 "nbformat_minor": 2
}
