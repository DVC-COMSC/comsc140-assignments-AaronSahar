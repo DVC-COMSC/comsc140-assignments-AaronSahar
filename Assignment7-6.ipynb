{
 "cells": [
  {
   "cell_type": "code",
   "execution_count": 7,
   "metadata": {},
   "outputs": [
    {
     "name": "stdout",
     "output_type": "stream",
     "text": [
      "[80, 100, 20, 40, 60]\n"
     ]
    }
   ],
   "source": [
    "num1 = list(map(int, input(\"Enter the numbers \").split()))\n",
    "num2 = list(map(int, input(\"Enter the numbers \").split()))\n",
    "if len(num1) <= len(num2):\n",
    "    merged = num1 + num2\n",
    "else:\n",
    "    merged = num2 + num1\n",
    "print(merged)\n"
   ]
  }
 ],
 "metadata": {
  "kernelspec": {
   "display_name": "Python 3.9.12 ('base')",
   "language": "python",
   "name": "python3"
  },
  "language_info": {
   "codemirror_mode": {
    "name": "ipython",
    "version": 3
   },
   "file_extension": ".py",
   "mimetype": "text/x-python",
   "name": "python",
   "nbconvert_exporter": "python",
   "pygments_lexer": "ipython3",
   "version": "3.9.12"
  },
  "orig_nbformat": 4,
  "vscode": {
   "interpreter": {
    "hash": "f99ce459c7a0f9093dec66807a6e7241d1f758b2e574ff2d27df5e1d05a50f5b"
   }
  }
 },
 "nbformat": 4,
 "nbformat_minor": 2
}
