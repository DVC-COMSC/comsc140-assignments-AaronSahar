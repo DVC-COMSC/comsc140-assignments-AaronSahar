{
 "cells": [
  {
   "cell_type": "code",
   "execution_count": 3,
   "metadata": {},
   "outputs": [
    {
     "name": "stdout",
     "output_type": "stream",
     "text": [
      "The odd numbers are: 44 24 8 34 \n",
      "110\n"
     ]
    }
   ],
   "source": [
    "import random\n",
    "numbers = []\n",
    "sum = 0\n",
    "i = 0\n",
    "while sum < 100:\n",
    "    numbers.append(random.randint(0,100))\n",
    "    sum += numbers[i]\n",
    "    i+=1\n",
    "i=0\n",
    "print(\"The odd numbers are:\", end = ' ')\n",
    "while i < len(numbers):\n",
    "    print(numbers[i], end = ' ')\n",
    "    i+=1\n",
    "print()\n",
    "print(\"The total sum is\", sum)"
   ]
  }
 ],
 "metadata": {
  "kernelspec": {
   "display_name": "Python 3.9.12 ('base')",
   "language": "python",
   "name": "python3"
  },
  "language_info": {
   "codemirror_mode": {
    "name": "ipython",
    "version": 3
   },
   "file_extension": ".py",
   "mimetype": "text/x-python",
   "name": "python",
   "nbconvert_exporter": "python",
   "pygments_lexer": "ipython3",
   "version": "3.9.12"
  },
  "orig_nbformat": 4,
  "vscode": {
   "interpreter": {
    "hash": "f99ce459c7a0f9093dec66807a6e7241d1f758b2e574ff2d27df5e1d05a50f5b"
   }
  }
 },
 "nbformat": 4,
 "nbformat_minor": 2
}
