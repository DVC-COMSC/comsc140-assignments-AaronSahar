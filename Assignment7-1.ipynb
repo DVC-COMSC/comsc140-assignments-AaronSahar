{
 "cells": [
  {
   "cell_type": "code",
   "execution_count": 5,
   "metadata": {},
   "outputs": [
    {
     "name": "stdout",
     "output_type": "stream",
     "text": [
      "5.00 5.00 15.00 15.00 25.00 25.00 35.00 35.00 45.00 45.00 10.0\n"
     ]
    }
   ],
   "source": [
    "list = []\n",
    "average = 0\n",
    "for i in range(10):\n",
    "    list.append(int(input(\"Enter a number\")))\n",
    "    average += list[i]\n",
    "average /= 10\n",
    "for i in range(10):\n",
    "    list[i] -= average\n",
    "    if list[i] < 0:\n",
    "        list[i] *= -1\n",
    "for i in range(10):\n",
    "    print(f'{list[i]:.2f}', end=' ')\n",
    "print(average)\n"
   ]
  }
 ],
 "metadata": {
  "kernelspec": {
   "display_name": "Python 3.9.12 ('base')",
   "language": "python",
   "name": "python3"
  },
  "language_info": {
   "codemirror_mode": {
    "name": "ipython",
    "version": 3
   },
   "file_extension": ".py",
   "mimetype": "text/x-python",
   "name": "python",
   "nbconvert_exporter": "python",
   "pygments_lexer": "ipython3",
   "version": "3.9.12"
  },
  "orig_nbformat": 4,
  "vscode": {
   "interpreter": {
    "hash": "f99ce459c7a0f9093dec66807a6e7241d1f758b2e574ff2d27df5e1d05a50f5b"
   }
  }
 },
 "nbformat": 4,
 "nbformat_minor": 2
}
