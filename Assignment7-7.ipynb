{
 "cells": [
  {
   "cell_type": "code",
   "execution_count": 6,
   "metadata": {},
   "outputs": [
    {
     "name": "stdout",
     "output_type": "stream",
     "text": [
      "[1, 11, 2, 22, 3, 33, 4, 44, 5, 55, 6]\n"
     ]
    }
   ],
   "source": [
    "num1 = list(map(int, input(\"Enter the numbers \").split()))\n",
    "num2 = list(map(int, input(\"Enter the numbers \").split()))\n",
    "num3 = []\n",
    "i = 0\n",
    "if len(num1) <= len(num2):\n",
    "    for j in range(len(num1)):\n",
    "        num3.append(num1[i])\n",
    "        num3.append(num2[i])\n",
    "        i+=1\n",
    "    for j in range (len(num2) - len(num1)):\n",
    "        num3.append(num2[i])\n",
    "        i+=1\n",
    "elif len(num1) > len(num2):\n",
    "    for j in range(len(num2)):\n",
    "        num3.append(num1[i])\n",
    "        num3.append(num2[i])\n",
    "        i+=1\n",
    "    for j in range (len(num1) - len(num2)):\n",
    "        num3.append(num1[i])\n",
    "        i+=1\n",
    "print(num3)"
   ]
  }
 ],
 "metadata": {
  "kernelspec": {
   "display_name": "Python 3.9.12 ('base')",
   "language": "python",
   "name": "python3"
  },
  "language_info": {
   "codemirror_mode": {
    "name": "ipython",
    "version": 3
   },
   "file_extension": ".py",
   "mimetype": "text/x-python",
   "name": "python",
   "nbconvert_exporter": "python",
   "pygments_lexer": "ipython3",
   "version": "3.9.12"
  },
  "orig_nbformat": 4,
  "vscode": {
   "interpreter": {
    "hash": "f99ce459c7a0f9093dec66807a6e7241d1f758b2e574ff2d27df5e1d05a50f5b"
   }
  }
 },
 "nbformat": 4,
 "nbformat_minor": 2
}
