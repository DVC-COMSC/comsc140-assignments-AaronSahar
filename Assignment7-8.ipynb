{
 "cells": [
  {
   "cell_type": "code",
   "execution_count": 31,
   "metadata": {},
   "outputs": [
    {
     "name": "stdout",
     "output_type": "stream",
     "text": [
      "[0, 3, 5]\n",
      "['are', 'are', 'arrree']\n"
     ]
    }
   ],
   "source": [
    "input_string = list(map(str, input(\"Enter the strings \").split()))\n",
    "are = ['a', 'r', 'e']\n",
    "are_input_list = []\n",
    "for i in range(len(input_string)):\n",
    "    idxlst = [input_string[i].find(are[j]) for j in range (len(are))]\n",
    "    if idxlst[0] >= 0 and idxlst[1] >= 0 and idxlst[2] >= 0:\n",
    "        are_input_list.append(input_string[i])\n",
    "for i in range(len(are_input_list)):\n",
    "    print(are_input_list[i], end=' ')\n"
   ]
  }
 ],
 "metadata": {
  "kernelspec": {
   "display_name": "Python 3.9.12 ('base')",
   "language": "python",
   "name": "python3"
  },
  "language_info": {
   "codemirror_mode": {
    "name": "ipython",
    "version": 3
   },
   "file_extension": ".py",
   "mimetype": "text/x-python",
   "name": "python",
   "nbconvert_exporter": "python",
   "pygments_lexer": "ipython3",
   "version": "3.9.12"
  },
  "orig_nbformat": 4,
  "vscode": {
   "interpreter": {
    "hash": "f99ce459c7a0f9093dec66807a6e7241d1f758b2e574ff2d27df5e1d05a50f5b"
   }
  }
 },
 "nbformat": 4,
 "nbformat_minor": 2
}
