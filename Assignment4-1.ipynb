{
 "cells": [
  {
   "cell_type": "code",
   "execution_count": 4,
   "metadata": {},
   "outputs": [
    {
     "name": "stdout",
     "output_type": "stream",
     "text": [
      "Your input was invalid\n",
      "122\n",
      "122\n",
      "z "
     ]
    }
   ],
   "source": [
    "start = input(\"Please input the starting letter\")\n",
    "while start.isalpha() == False:\n",
    "    print(\"Your input was invalid\")\n",
    "    start = input(\"Please input the starting letter\")\n",
    "end = input(\"Input the ending character\")\n",
    "while (end.isalpha() == False) or (ord(start) > ord(end)):\n",
    "    print(\"Your input was invalid\")\n",
    "    end = input(\"Please input the ending letter\")\n",
    "i = ord(start)\n",
    "while i < ord(end) + 1:\n",
    "    print (chr(i), end=' ')\n",
    "    i+= 1"
   ]
  }
 ],
 "metadata": {
  "kernelspec": {
   "display_name": "Python 3.9.12 ('base')",
   "language": "python",
   "name": "python3"
  },
  "language_info": {
   "codemirror_mode": {
    "name": "ipython",
    "version": 3
   },
   "file_extension": ".py",
   "mimetype": "text/x-python",
   "name": "python",
   "nbconvert_exporter": "python",
   "pygments_lexer": "ipython3",
   "version": "3.9.12"
  },
  "orig_nbformat": 4,
  "vscode": {
   "interpreter": {
    "hash": "f99ce459c7a0f9093dec66807a6e7241d1f758b2e574ff2d27df5e1d05a50f5b"
   }
  }
 },
 "nbformat": 4,
 "nbformat_minor": 2
}
