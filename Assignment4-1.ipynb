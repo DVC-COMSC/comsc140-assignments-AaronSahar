{
 "cells": [
  {
   "cell_type": "code",
   "execution_count": 4,
   "metadata": {},
   "outputs": [
    {
     "name": "stdout",
     "output_type": "stream",
     "text": [
      "Your input was invalid\n",
      "122\n",
      "122\n",
      "z "
     ]
    }
   ],
   "source": [
    "start = input(\"Please input the starting letter\")\n",
    "while start.isalpha() == False:\n",
    "    print(\"Your input was invalid\")\n",
    "    start = input(\"Please input the starting letter\")\n",
    "end = input(\"Input the ending character\")\n",
    "while (end.isalpha() == False) or (ord(start) > ord(end)):\n",
    "    print(\"Your input was invalid\")\n",
    "    end = input(\"Please input the ending letter\")\n",
    "\n",
    "\n",
    "\n",
    "\n",
    "    \n",
    "i = ord(start)\n",
    "while i < ord(end) + 1:\n",
    "    print (chr(i), end=' ')\n",
    "    i+= 1"
   ]
  },
  {
   "cell_type": "code",
   "execution_count": null,
   "metadata": {},
   "outputs": [],
   "source": [
    "while True:\n",
    "    start=input('Start?')\n",
    "    end=input('End?')\n",
    "    if start < end and start.isalpha() and end.isalpha():\n",
    "        break"
   ]
  }
 ],
 "metadata": {
  "kernelspec": {
   "display_name": "Python 3.9.6 64-bit",
   "language": "python",
   "name": "python3"
  },
  "language_info": {
   "codemirror_mode": {
    "name": "ipython",
    "version": 3
   },
   "file_extension": ".py",
   "mimetype": "text/x-python",
   "name": "python",
   "nbconvert_exporter": "python",
   "pygments_lexer": "ipython3",
   "version": "3.9.6"
  },
  "orig_nbformat": 4,
  "vscode": {
   "interpreter": {
    "hash": "31f2aee4e71d21fbe5cf8b01ff0e069b9275f58929596ceb00d14d90e3e16cd6"
   }
  }
 },
 "nbformat": 4,
 "nbformat_minor": 2
}
