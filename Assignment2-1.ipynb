{
 "cells": [
  {
   "cell_type": "code",
   "execution_count": 26,
   "metadata": {},
   "outputs": [
    {
     "name": "stdout",
     "output_type": "stream",
     "text": [
      "The total number of students is  100\n"
     ]
    },
    {
     "ename": "TypeError",
     "evalue": "can only concatenate str (not \"int\") to str",
     "output_type": "error",
     "traceback": [
      "\u001b[1;31m---------------------------------------------------------------------------\u001b[0m",
      "\u001b[1;31mTypeError\u001b[0m                                 Traceback (most recent call last)",
      "\u001b[1;32mc:\\Users\\aaron\\Desktop\\PythonRepo\\comsc140-assignments-AaronSahar\\Assignment2-1.ipynb Cell 1\u001b[0m in \u001b[0;36m<cell line: 7>\u001b[1;34m()\u001b[0m\n\u001b[0;32m      <a href='vscode-notebook-cell:/c%3A/Users/aaron/Desktop/PythonRepo/comsc140-assignments-AaronSahar/Assignment2-1.ipynb#W0sZmlsZQ%3D%3D?line=4'>5</a>\u001b[0m female_percent \u001b[39m=\u001b[39m num_of_females \u001b[39m/\u001b[39m total \u001b[39m*\u001b[39m \u001b[39m100\u001b[39m\n\u001b[0;32m      <a href='vscode-notebook-cell:/c%3A/Users/aaron/Desktop/PythonRepo/comsc140-assignments-AaronSahar/Assignment2-1.ipynb#W0sZmlsZQ%3D%3D?line=5'>6</a>\u001b[0m \u001b[39mprint\u001b[39m (\u001b[39m\"\u001b[39m\u001b[39mThe total number of students is \u001b[39m\u001b[39m\"\u001b[39m, total)\n\u001b[1;32m----> <a href='vscode-notebook-cell:/c%3A/Users/aaron/Desktop/PythonRepo/comsc140-assignments-AaronSahar/Assignment2-1.ipynb#W0sZmlsZQ%3D%3D?line=6'>7</a>\u001b[0m \u001b[39mprint\u001b[39m (\u001b[39m\"\u001b[39;49m\u001b[39mThe number of male students is \u001b[39;49m\u001b[39m\"\u001b[39;49m \u001b[39m+\u001b[39;49m num_of_males \u001b[39m+\u001b[39m \u001b[39m\"\u001b[39m\u001b[39mand the number of female students is \u001b[39m\u001b[39m\"\u001b[39m \u001b[39m+\u001b[39m \u001b[39m\"\u001b[39m\u001b[39mnum_of_females\u001b[39m\u001b[39m\"\u001b[39m)\n\u001b[0;32m      <a href='vscode-notebook-cell:/c%3A/Users/aaron/Desktop/PythonRepo/comsc140-assignments-AaronSahar/Assignment2-1.ipynb#W0sZmlsZQ%3D%3D?line=7'>8</a>\u001b[0m \u001b[39mprint\u001b[39m(\u001b[39m\"\u001b[39m\u001b[39mthe percentage of the class that is male is \u001b[39m\u001b[39m%.2f\u001b[39;00m\u001b[39m\"\u001b[39m \u001b[39m%\u001b[39m male_percent \u001b[39m+\u001b[39m \u001b[39m\"\u001b[39m\u001b[39m%\u001b[39m\u001b[39m\"\u001b[39m \u001b[39m+\u001b[39m \u001b[39m\"\u001b[39m\u001b[39m, and the percentage of the class that is female is \u001b[39m\u001b[39m%.2f\u001b[39;00m\u001b[39m\"\u001b[39m \u001b[39m%\u001b[39m female_percent \u001b[39m+\u001b[39m \u001b[39m\"\u001b[39m\u001b[39m%\u001b[39m\u001b[39m\"\u001b[39m)\n",
      "\u001b[1;31mTypeError\u001b[0m: can only concatenate str (not \"int\") to str"
     ]
    }
   ],
   "source": [
    "num_of_males = int(input('Please input number of males registered in the class: '))\n",
    "num_of_females = int(input('Please input number of females registered in the class: '))\n",
    "total = num_of_males + num_of_females\n",
    "male_percent = num_of_males / total * 100\n",
    "female_percent = num_of_females / total * 100\n",
    "print (\"The total number of students is\", total)\n",
    "print (\"The number of male students is\", num_of_males, \"and the number of female students is\", num_of_females)\n",
    "print(\"the percentage of the class that is male is %.2f\" % male_percent + \"%\" + \", and the percentage of the class that is female is %.2f\" % female_percent + \"%\")"
   ]
  }
 ],
 "metadata": {
  "kernelspec": {
   "display_name": "Python 3.9.12 ('base')",
   "language": "python",
   "name": "python3"
  },
  "language_info": {
   "codemirror_mode": {
    "name": "ipython",
    "version": 3
   },
   "file_extension": ".py",
   "mimetype": "text/x-python",
   "name": "python",
   "nbconvert_exporter": "python",
   "pygments_lexer": "ipython3",
   "version": "3.9.12"
  },
  "orig_nbformat": 4,
  "vscode": {
   "interpreter": {
    "hash": "f99ce459c7a0f9093dec66807a6e7241d1f758b2e574ff2d27df5e1d05a50f5b"
   }
  }
 },
 "nbformat": 4,
 "nbformat_minor": 2
}
